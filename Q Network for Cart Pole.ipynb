{
 "cells": [
  {
   "cell_type": "code",
   "execution_count": 1,
   "metadata": {},
   "outputs": [],
   "source": [
    "import numpy as np\n",
    "import tensorflow as tf\n",
    "import gym"
   ]
  },
  {
   "cell_type": "code",
   "execution_count": 2,
   "metadata": {},
   "outputs": [],
   "source": [
    "env = gym.make('CartPole-v0')\n",
    "\n",
    "learning_rate = 1e-1\n",
    "input_size = env.observation_space.shape[0]\n",
    "output_size = env.action_space.n"
   ]
  },
  {
   "cell_type": "code",
   "execution_count": 3,
   "metadata": {},
   "outputs": [],
   "source": [
    "X = tf.placeholder(tf.float32, [None, input_size], name='input_x')\n",
    "W1 = tf.get_variable(\"W1\", shape=[input_size,output_size],\n",
    "                     initializer=tf.contrib.layers.xavier_initializer())\n",
    "Qpred = tf.matmul(X, W1)"
   ]
  },
  {
   "cell_type": "code",
   "execution_count": 4,
   "metadata": {},
   "outputs": [],
   "source": [
    "Y = tf.placeholder(shape=[None,output_size],dtype=tf.float32)\n",
    "loss = tf.reduce_sum(tf.square(Y-Qpred))\n",
    "train = tf.train.AdamOptimizer(learning_rate=learning_rate).minimize(loss)\n",
    "\n",
    "num_episodes = 5000\n",
    "dis=0.9\n",
    "rList=[]"
   ]
  },
  {
   "cell_type": "code",
   "execution_count": 5,
   "metadata": {},
   "outputs": [],
   "source": [
    "init = tf.global_variables_initializer()\n",
    "sess = tf.Session()\n",
    "sess.run(init)"
   ]
  },
  {
   "cell_type": "code",
   "execution_count": null,
   "metadata": {},
   "outputs": [],
   "source": [
    "for i in range(num_episodes):\n",
    "    e = 1./((i/10)+1)\n",
    "    rAll = 0\n",
    "    step_count = 0\n",
    "    s = env.reset()\n",
    "    done =False\n",
    "    \n",
    "    while not done:\n",
    "        step_count += 1\n",
    "        x = np.reshape(s,[1,input_size])\n",
    "        Qs = sess.run(Qpred, feed_dict={X:x})\n",
    "        \n",
    "        if np.random.rand(1) < e:\n",
    "            a = env.action_space.sample()\n",
    "        else:\n",
    "            a = np.argmax(Qs)\n",
    "        \n",
    "        s1, reward, done, _ = env.step(a)\n",
    "        if done:\n",
    "            Qs[0,a] = -100\n",
    "        else:\n",
    "            x1 = np.reshape(s1, [1,input_size])\n",
    "            Qs1 = sess.run(Qpred, feed_dict ={X:x1})\n",
    "            Qs[0,a] = reward + dis * np.max(Qs1)\n",
    "        \n",
    "        sess.run(train, feed_dict={X:x, Y:Qs})\n",
    "        s = s1\n",
    "    rList.append(step_count)\n",
    "    print(\"Episode: {}  steps: {}\".format(i, step_count))\n",
    "\n",
    "    if len(rList) > 10 and np.mean(rList[-10:])>500:\n",
    "        break\n",
    "\n",
    "observation = env.reset()\n",
    "reward_sum = 0\n",
    "while True:\n",
    "    env.render()\n",
    "    \n",
    "    x = np.reshape(observation, [1, input_size])\n",
    "    Qs = sess.run(Qpred, feed_dict={X: x})\n",
    "    a = np.argmax(Qs)\n",
    "    \n",
    "    observation, reward, done, _ = env.step(a)\n",
    "    reward_sum += reward\n",
    "    if done:\n",
    "        print(\"Total score: {}\".format(reward_sum))\n",
    "        break"
   ]
  },
  {
   "cell_type": "code",
   "execution_count": null,
   "metadata": {},
   "outputs": [],
   "source": [
    "\"\"\"\n",
    "학습이 되지 않는 이유!\n",
    "\n",
    "1.학습이 너무 작다.(변수가 너무 없음 : Too shallow)\n",
    "2.타겟이 정해지지 않는다.\n",
    "\n",
    "\"\"\""
   ]
  }
 ],
 "metadata": {
  "kernelspec": {
   "display_name": "Python 3",
   "language": "python",
   "name": "python3"
  },
  "language_info": {
   "codemirror_mode": {
    "name": "ipython",
    "version": 3
   },
   "file_extension": ".py",
   "mimetype": "text/x-python",
   "name": "python",
   "nbconvert_exporter": "python",
   "pygments_lexer": "ipython3",
   "version": "3.6.8"
  }
 },
 "nbformat": 4,
 "nbformat_minor": 2
}
